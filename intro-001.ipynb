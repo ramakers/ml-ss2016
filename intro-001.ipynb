{
 "cells": [
  {
   "cell_type": "markdown",
   "metadata": {},
   "source": [
    "# Machine Learning Introduction 001\n",
    " \"We are drowning in information and starving for knowledge.\" -- John Nassbit\n",
    "\n",
    "# What and why ML ?\n",
    "\n",
    "- Big data: 40bn webpages, 100hrs/min youtube upload, 1M transactions/hrs on Walmart\n",
    "- ML = automated methods for data analysis\n",
    "- Pattern recognition, predicting future data, Decision making under uncertainty\n",
    "- Mathematical way to study such tasks guided by Probability theory\n",
    "- Efficiency, Scalability & truly massive datasets set even further challenges\n",
    "\n",
    "\n",
    "# References\n",
    "\n",
    "There is plenty of good material, one of them is:\n",
    "\n",
    "<img src=\"figures/murphy.jpg\" width=\"40%\">\n",
    "\n",
    "# Overview / Table of Contents\n",
    "\n",
    "## Python refresher\n",
    "## Handling Data\n",
    "## Training and Testing\n",
    "## Supervised Learning : Classification & Regression\n",
    "## Unsupervised Learning : Classification\n",
    "## Case Studies and scikit-learn in depth\n",
    "## Analyzing your model\n"
   ]
  }
 ],
 "metadata": {
  "kernelspec": {
   "display_name": "Python 2",
   "language": "python",
   "name": "python2"
  },
  "language_info": {
   "codemirror_mode": {
    "name": "ipython",
    "version": 2
   },
   "file_extension": ".py",
   "mimetype": "text/x-python",
   "name": "python",
   "nbconvert_exporter": "python",
   "pygments_lexer": "ipython2",
   "version": "2.7.9"
  }
 },
 "nbformat": 4,
 "nbformat_minor": 0
}
